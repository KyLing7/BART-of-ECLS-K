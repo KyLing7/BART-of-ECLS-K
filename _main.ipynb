{
 "cells": [
  {
   "cell_type": "code",
   "execution_count": null,
   "id": "51b482f1",
   "metadata": {},
   "outputs": [
    {
     "name": "stdout",
     "output_type": "stream",
     "text": [
      "['CHILDID', 'S1_ID', 'GENDER', 'WKWHITE', 'WKSESL', 'RIRT', 'MIRT', 'S2KPUPRI', 'P1EXPECT', 'P1FIRKDG', 'P1AGEENT', 'apprchT1', 'P1HSEVER', 'chg14', 'P1FSTAMP', 'S2KMINOR', 'ONEPARENT', 'STEPPARENT', 'P1NUMSIB', 'P1HMAFB', 'WKCAREPK', 'P1EARLY', 'wt_ounces', 'C1FMOTOR', 'C1GMOTOR', 'P1HSCALE', 'P1SADLON', 'P1IMPULS', 'P1ATTENI', 'P1SOLVE', 'P1PRONOU', 'P1DISABL', 'F5SPECS', 'C5R4RSCL', 'C6R4RSCL', 'C5R4MSCL', 'C6R4MSCL', 'avg_RIRT', 'avg_MIRT', 'avg_SES', 'avg_apprchT1']\n"
     ]
    }
   ],
   "source": [
    "import pandas as pd\n",
    "\n",
    "pd.set_option('display.max_columns', None)\n",
    "pd.set_option('display.expand_frame_repr', False)\n",
    "pd.set_option('display.max_colwidth', None)\n",
    "\n",
    "df = pd.read_csv(\"eclsk.csv\")\n",
    "\n",
    "print(df.columns.tolist())"
   ]
  },
  {
   "cell_type": "code",
   "execution_count": null,
   "id": "f156dd3d",
   "metadata": {},
   "outputs": [],
   "source": []
  },
  {
   "cell_type": "code",
   "execution_count": null,
   "id": "9f820440",
   "metadata": {},
   "outputs": [
    {
     "name": "stdout",
     "output_type": "stream",
     "text": [
      "处理后样本量：7362 行，变量数：12\n",
      "   avg_MIRT  P1EARLY  WKSESL  ONEPARENT  P1ATTENI  apprchT1  P1EXPECT  WKCAREPK  P1HSCALE  P1AGEENT  P1SADLON  P1FSTAMP\n",
      "0  40.61000       70    1.56          0         2      3.33         5         1         2        74      1.50         0\n",
      "1  40.61000        0    1.41          0         2      2.83         6         1         3        67      1.67         0\n",
      "2  35.18375        0   -2.93          0         1      2.83         6         1         1        71      1.75         0\n",
      "3  35.18375        0    0.54          0         2      2.83         4         1         1        63      2.00         0\n",
      "4  35.18375        0    0.15          0         2      1.50         6         1         1        68      2.25         0\n"
     ]
    }
   ],
   "source": [
    "import pandas as pd\n",
    "\n",
    "df = pd.read_csv(\"eclsk.csv\")\n",
    "\n",
    "y_var = 'avg_MIRT' \n",
    "x_var = 'P1EARLY'  \n",
    "a_vars = [\n",
    "    'WKSESL',\n",
    "    'ONEPARENT',\n",
    "    'P1ATTENI',\n",
    "    'apprchT1',\n",
    "    'P1EXPECT',\n",
    "    'WKCAREPK',\n",
    "    'P1HSCALE',\n",
    "    'P1AGEENT',\n",
    "    'P1SADLON',\n",
    "    'P1FSTAMP'\n",
    "]\n",
    "\n",
    "model_df = df[[y_var, x_var] + a_vars].copy()\n",
    "model_df = model_df.dropna()\n",
    "\n",
    "print(f\"处理后样本量：{model_df.shape[0]} 行，变量数：{model_df.shape[1]}\")\n",
    "print(model_df.head())"
   ]
  },
  {
   "cell_type": "code",
   "execution_count": null,
   "id": "330661de",
   "metadata": {},
   "outputs": [
    {
     "name": "stdout",
     "output_type": "stream",
     "text": [
      "已保存文件：final.csv，样本量：7362，变量数：13\n"
     ]
    }
   ],
   "source": [
    "import pandas as pd\n",
    "\n",
    "df = pd.read_csv(\"eclsk.csv\")\n",
    "\n",
    "id_var = 'CHILDID'    \n",
    "y_var = 'avg_MIRT'  \n",
    "x_var = 'P1EARLY'      \n",
    "a_vars = [\n",
    "    'WKSESL',\n",
    "    'ONEPARENT',\n",
    "    'P1ATTENI',\n",
    "    'apprchT1',\n",
    "    'P1EXPECT',\n",
    "    'WKCAREPK',\n",
    "    'P1HSCALE',\n",
    "    'P1AGEENT',\n",
    "    'P1SADLON',\n",
    "    'P1FSTAMP'\n",
    "]\n",
    "\n",
    "cols = [id_var, y_var, x_var] + a_vars\n",
    "model_df = df[cols].copy()\n",
    "\n",
    "model_df = model_df.dropna()\n",
    "\n",
    "model_df.to_csv(\"final.csv\", index=False)\n",
    "\n",
    "print(f\"已保存文件：final.csv，样本量：{model_df.shape[0]}，变量数：{model_df.shape[1]}\")"
   ]
  },
  {
   "cell_type": "code",
   "execution_count": null,
   "id": "fa57bbc9",
   "metadata": {},
   "outputs": [
    {
     "name": "stdout",
     "output_type": "stream",
     "text": [
      "传统 PSM 匹配后估计的 ATE：0.3645\n"
     ]
    }
   ],
   "source": [
    "import pandas as pd\n",
    "import numpy as np\n",
    "from sklearn.linear_model import LogisticRegression\n",
    "from sklearn.preprocessing import StandardScaler\n",
    "from sklearn.neighbors import NearestNeighbors\n",
    "\n",
    "df = pd.read_csv(\"final.csv\")\n",
    "\n",
    "y = df['avg_MIRT'].values\n",
    "t = df['P1EARLY'].values\n",
    "X = df.drop(columns=['CHILDID', 'avg_MIRT', 'P1EARLY']).values\n",
    "\n",
    "scaler = StandardScaler()\n",
    "X_scaled = scaler.fit_transform(X)\n",
    "\n",
    "ps_model = LogisticRegression(solver='liblinear')\n",
    "ps_model.fit(X_scaled, t)\n",
    "propensity_scores = ps_model.predict_proba(X_scaled)[:, 1]\n",
    "\n",
    "treated_idx = np.where(t == 1)[0]\n",
    "control_idx = np.where(t == 0)[0]\n",
    "\n",
    "nn = NearestNeighbors(n_neighbors=1)\n",
    "nn.fit(propensity_scores[control_idx].reshape(-1, 1))\n",
    "distances, matched_control_idx = nn.kneighbors(propensity_scores[treated_idx].reshape(-1, 1))\n",
    "\n",
    "treated_outcomes = y[treated_idx]\n",
    "matched_control_outcomes = y[control_idx][matched_control_idx.flatten()]\n",
    "ate = np.mean(treated_outcomes - matched_control_outcomes)\n",
    "\n",
    "\n",
    "print(f\"传统 PSM 匹配后估计的 ATE：{ate:.4f}\")"
   ]
  },
  {
   "cell_type": "code",
   "execution_count": null,
   "id": "0b961822",
   "metadata": {},
   "outputs": [
    {
     "ename": "ModuleNotFoundError",
     "evalue": "No module named 'econml.bart'",
     "output_type": "error",
     "traceback": [
      "\u001b[0;31m---------------------------------------------------------------------------\u001b[0m",
      "\u001b[0;31mModuleNotFoundError\u001b[0m                       Traceback (most recent call last)",
      "Cell \u001b[0;32mIn[1], line 5\u001b[0m\n\u001b[1;32m      3\u001b[0m \u001b[38;5;28;01mimport\u001b[39;00m\u001b[38;5;250m \u001b[39m\u001b[38;5;21;01mnumpy\u001b[39;00m\u001b[38;5;250m \u001b[39m\u001b[38;5;28;01mas\u001b[39;00m\u001b[38;5;250m \u001b[39m\u001b[38;5;21;01mnp\u001b[39;00m\n\u001b[1;32m      4\u001b[0m \u001b[38;5;28;01mfrom\u001b[39;00m\u001b[38;5;250m \u001b[39m\u001b[38;5;21;01msklearn\u001b[39;00m\u001b[38;5;21;01m.\u001b[39;00m\u001b[38;5;21;01mpreprocessing\u001b[39;00m\u001b[38;5;250m \u001b[39m\u001b[38;5;28;01mimport\u001b[39;00m StandardScaler\n\u001b[0;32m----> 5\u001b[0m \u001b[38;5;28;01mfrom\u001b[39;00m\u001b[38;5;250m \u001b[39m\u001b[38;5;21;01meconml\u001b[39;00m\u001b[38;5;21;01m.\u001b[39;00m\u001b[38;5;21;01mbart\u001b[39;00m\u001b[38;5;250m \u001b[39m\u001b[38;5;28;01mimport\u001b[39;00m BART\n\u001b[1;32m      6\u001b[0m \u001b[38;5;28;01mimport\u001b[39;00m\u001b[38;5;250m \u001b[39m\u001b[38;5;21;01mmatplotlib\u001b[39;00m\u001b[38;5;21;01m.\u001b[39;00m\u001b[38;5;21;01mpyplot\u001b[39;00m\u001b[38;5;250m \u001b[39m\u001b[38;5;28;01mas\u001b[39;00m\u001b[38;5;250m \u001b[39m\u001b[38;5;21;01mplt\u001b[39;00m\n\u001b[1;32m      8\u001b[0m \u001b[38;5;66;03m# 中文注释：读取数据\u001b[39;00m\n",
      "\u001b[0;31mModuleNotFoundError\u001b[0m: No module named 'econml.bart'"
     ]
    }
   ],
   "source": [
    "import pandas as pd\n",
    "import numpy as np\n",
    "from sklearn.preprocessing import StandardScaler\n",
    "from econml.bart import BART\n",
    "import matplotlib.pyplot as plt\n",
    "\n",
    "df = pd.read_csv(\"final.csv\")\n",
    "y = df[\"avg_MIRT\"].values\n",
    "T = df[\"P1EARLY\"].values\n",
    "X = df.drop(columns=[\"CHILDID\", \"avg_MIRT\", \"P1EARLY\"]).values\n",
    "\n",
    "scaler = StandardScaler()\n",
    "X_scaled = scaler.fit_transform(X)\n",
    "\n",
    "model = BART()\n",
    "model.fit(Y=y, T=T, X=X_scaled)\n",
    "\n",
    "ate = model.ate(X=X_scaled)\n",
    "print(f\"BART 估计的 ATE：{ate:.4f}\")\n",
    "\n",
    "ite = model.effect(X_scaled)\n",
    "\n",
    "plt.figure(figsize=(8, 5))\n",
    "plt.hist(ite, bins=30, edgecolor='black')\n",
    "plt.title(\"Individual Treatment Effects (ITE) Distribution - BART\")\n",
    "plt.xlabel(\"ITE value\")\n",
    "plt.ylabel(\"Frequency\")\n",
    "plt.grid(True)\n",
    "plt.tight_layout()\n",
    "plt.show()"
   ]
  },
  {
   "cell_type": "code",
   "execution_count": null,
   "id": "e1084790",
   "metadata": {},
   "outputs": [
    {
     "name": "stdout",
     "output_type": "stream",
     "text": [
      "Starting burn\n",
      "Starting burn\n",
      "Starting burn\n",
      "Starting burn\n"
     ]
    },
    {
     "name": "stderr",
     "output_type": "stream",
     "text": [
      "100%|██████████| 200/200 [00:03<00:00, 58.33it/s]\n",
      "100%|██████████| 200/200 [00:03<00:00, 58.03it/s]\n",
      "100%|██████████| 200/200 [00:03<00:00, 57.68it/s]\n",
      "100%|██████████| 200/200 [00:03<00:00, 58.00it/s]\n",
      "  0%|          | 0/200 [00:00<?, ?it/s]"
     ]
    },
    {
     "name": "stdout",
     "output_type": "stream",
     "text": [
      "Starting sampling\n",
      "Starting sampling\n",
      "Starting sampling\n",
      "Starting sampling\n"
     ]
    },
    {
     "name": "stderr",
     "output_type": "stream",
     "text": [
      "100%|██████████| 200/200 [00:03<00:00, 58.10it/s]\n",
      "100%|██████████| 200/200 [00:03<00:00, 57.82it/s]\n",
      "100%|██████████| 200/200 [00:03<00:00, 57.57it/s]\n",
      "100%|██████████| 200/200 [00:03<00:00, 57.48it/s]\n"
     ]
    },
    {
     "name": "stdout",
     "output_type": "stream",
     "text": [
      "Starting burn\n",
      "Starting burn\n"
     ]
    },
    {
     "name": "stderr",
     "output_type": "stream",
     "text": [
      "  1%|          | 2/200 [00:00<00:17, 11.22it/s]"
     ]
    },
    {
     "name": "stdout",
     "output_type": "stream",
     "text": [
      "Starting burn\n",
      "Starting burn\n"
     ]
    },
    {
     "name": "stderr",
     "output_type": "stream",
     "text": [
      "100%|██████████| 200/200 [00:06<00:00, 28.87it/s]\n",
      " 94%|█████████▍| 189/200 [00:06<00:00, 29.62it/s]"
     ]
    },
    {
     "name": "stdout",
     "output_type": "stream",
     "text": [
      "Starting sampling\n"
     ]
    },
    {
     "name": "stderr",
     "output_type": "stream",
     "text": [
      "100%|██████████| 200/200 [00:07<00:00, 28.16it/s]\n",
      "100%|██████████| 200/200 [00:07<00:00, 27.51it/s]\n",
      "  8%|▊         | 17/200 [00:00<00:06, 30.05it/s]"
     ]
    },
    {
     "name": "stdout",
     "output_type": "stream",
     "text": [
      "Starting sampling\n",
      "Starting sampling\n"
     ]
    },
    {
     "name": "stderr",
     "output_type": "stream",
     "text": [
      "100%|██████████| 200/200 [00:07<00:00, 25.91it/s]\n",
      " 12%|█▏        | 23/200 [00:00<00:05, 29.57it/s]"
     ]
    },
    {
     "name": "stdout",
     "output_type": "stream",
     "text": [
      "Starting sampling\n"
     ]
    },
    {
     "name": "stderr",
     "output_type": "stream",
     "text": [
      "100%|██████████| 200/200 [00:06<00:00, 29.76it/s]\n",
      "100%|██████████| 200/200 [00:06<00:00, 28.57it/s]\n",
      "100%|██████████| 200/200 [00:07<00:00, 28.35it/s]\n",
      "100%|██████████| 200/200 [00:07<00:00, 27.53it/s]\n"
     ]
    },
    {
     "name": "stdout",
     "output_type": "stream",
     "text": [
      "BART 估计的 ATE：5.2098\n"
     ]
    },
    {
     "data": {
      "image/png": "[encoded data removed]",
      "text/plain": [
       "<Figure size 800x500 with 1 Axes>"
      ]
     },
     "metadata": {},
     "output_type": "display_data"
    }
   ],
   "source": [
    "import pandas as pd\n",
    "import numpy as np\n",
    "from sklearn.preprocessing import StandardScaler\n",
    "from bartpy.sklearnmodel import SklearnModel\n",
    "import matplotlib.pyplot as plt\n",
    "\n",
    "df = pd.read_csv(\"final.csv\")\n",
    "y = df[\"avg_MIRT\"].values  \n",
    "T = df[\"P1EARLY\"].values  \n",
    "X = df.drop(columns=[\"CHILDID\", \"avg_MIRT\", \"P1EARLY\"]).values\n",
    "\n",
    "scaler = StandardScaler()\n",
    "X_scaled = scaler.fit_transform(X)\n",
    "\n",
    "model_treated = SklearnModel()\n",
    "model_control = SklearnModel()\n",
    "\n",
    "model_treated.fit(X_scaled[T == 1], y[T == 1])\n",
    "model_control.fit(X_scaled[T == 0], y[T == 0])\n",
    "\n",
    "mu1 = model_treated.predict(X_scaled)\n",
    "mu0 = model_control.predict(X_scaled)\n",
    "ite = mu1 - mu0\n",
    "\n",
    "ate = np.mean(ite)\n",
    "print(f\"BART 估计的 ATE：{ate:.4f}\")\n",
    "\n",
    "plt.figure(figsize=(8, 5))\n",
    "plt.hist(ite, bins=30, edgecolor='black')\n",
    "plt.title(\"Individual Treatment Effects (ITE) Distribution - BART\")\n",
    "plt.xlabel(\"ITE value\")\n",
    "plt.ylabel(\"Frequency\")\n",
    "plt.grid(True)\n",
    "plt.tight_layout()\n",
    "plt.show()"
   ]
  },
  {
   "cell_type": "code",
   "execution_count": 1,
   "id": "887ea549",
   "metadata": {},
   "outputs": [
    {
     "ename": "KeyError",
     "evalue": "'P1EARLY'",
     "output_type": "error",
     "traceback": [
      "\u001b[0;31m---------------------------------------------------------------------------\u001b[0m",
      "\u001b[0;31mKeyError\u001b[0m                                  Traceback (most recent call last)",
      "File \u001b[0;32m~/.pyenv/versions/3.10.13/lib/python3.10/site-packages/pandas/core/indexes/base.py:3812\u001b[0m, in \u001b[0;36mIndex.get_loc\u001b[0;34m(self, key)\u001b[0m\n\u001b[1;32m   3811\u001b[0m \u001b[38;5;28;01mtry\u001b[39;00m:\n\u001b[0;32m-> 3812\u001b[0m     \u001b[38;5;28;01mreturn\u001b[39;00m \u001b[38;5;28;43mself\u001b[39;49m\u001b[38;5;241;43m.\u001b[39;49m\u001b[43m_engine\u001b[49m\u001b[38;5;241;43m.\u001b[39;49m\u001b[43mget_loc\u001b[49m\u001b[43m(\u001b[49m\u001b[43mcasted_key\u001b[49m\u001b[43m)\u001b[49m\n\u001b[1;32m   3813\u001b[0m \u001b[38;5;28;01mexcept\u001b[39;00m \u001b[38;5;167;01mKeyError\u001b[39;00m \u001b[38;5;28;01mas\u001b[39;00m err:\n",
      "File \u001b[0;32mpandas/_libs/index.pyx:167\u001b[0m, in \u001b[0;36mpandas._libs.index.IndexEngine.get_loc\u001b[0;34m()\u001b[0m\n",
      "File \u001b[0;32mpandas/_libs/index.pyx:196\u001b[0m, in \u001b[0;36mpandas._libs.index.IndexEngine.get_loc\u001b[0;34m()\u001b[0m\n",
      "File \u001b[0;32mpandas/_libs/hashtable_class_helper.pxi:7088\u001b[0m, in \u001b[0;36mpandas._libs.hashtable.PyObjectHashTable.get_item\u001b[0;34m()\u001b[0m\n",
      "File \u001b[0;32mpandas/_libs/hashtable_class_helper.pxi:7096\u001b[0m, in \u001b[0;36mpandas._libs.hashtable.PyObjectHashTable.get_item\u001b[0;34m()\u001b[0m\n",
      "\u001b[0;31mKeyError\u001b[0m: 'P1EARLY'",
      "\nThe above exception was the direct cause of the following exception:\n",
      "\u001b[0;31mKeyError\u001b[0m                                  Traceback (most recent call last)",
      "Cell \u001b[0;32mIn[1], line 7\u001b[0m\n\u001b[1;32m      4\u001b[0m df \u001b[38;5;241m=\u001b[39m pd\u001b[38;5;241m.\u001b[39mread_csv(\u001b[38;5;124m\"\u001b[39m\u001b[38;5;124mfinal.csv\u001b[39m\u001b[38;5;124m\"\u001b[39m)\n\u001b[1;32m      6\u001b[0m y \u001b[38;5;241m=\u001b[39m df[\u001b[38;5;124m\"\u001b[39m\u001b[38;5;124mavg_MIRT\u001b[39m\u001b[38;5;124m\"\u001b[39m]\u001b[38;5;241m.\u001b[39mvalues\n\u001b[0;32m----> 7\u001b[0m T \u001b[38;5;241m=\u001b[39m \u001b[43mdf\u001b[49m\u001b[43m[\u001b[49m\u001b[38;5;124;43m\"\u001b[39;49m\u001b[38;5;124;43mP1EARLY\u001b[39;49m\u001b[38;5;124;43m\"\u001b[39;49m\u001b[43m]\u001b[49m\u001b[38;5;241m.\u001b[39mvalues\n\u001b[1;32m      8\u001b[0m X \u001b[38;5;241m=\u001b[39m df\u001b[38;5;241m.\u001b[39mdrop(columns\u001b[38;5;241m=\u001b[39m[\u001b[38;5;124m\"\u001b[39m\u001b[38;5;124mCHILDID\u001b[39m\u001b[38;5;124m\"\u001b[39m, \u001b[38;5;124m\"\u001b[39m\u001b[38;5;124mavg_MIRT\u001b[39m\u001b[38;5;124m\"\u001b[39m, \u001b[38;5;124m\"\u001b[39m\u001b[38;5;124mP1EARLY\u001b[39m\u001b[38;5;124m\"\u001b[39m])\u001b[38;5;241m.\u001b[39mvalues\n\u001b[1;32m      9\u001b[0m child_ids \u001b[38;5;241m=\u001b[39m df[\u001b[38;5;124m\"\u001b[39m\u001b[38;5;124mCHILDID\u001b[39m\u001b[38;5;124m\"\u001b[39m]\u001b[38;5;241m.\u001b[39mvalues\n",
      "File \u001b[0;32m~/.pyenv/versions/3.10.13/lib/python3.10/site-packages/pandas/core/frame.py:4107\u001b[0m, in \u001b[0;36mDataFrame.__getitem__\u001b[0;34m(self, key)\u001b[0m\n\u001b[1;32m   4105\u001b[0m \u001b[38;5;28;01mif\u001b[39;00m \u001b[38;5;28mself\u001b[39m\u001b[38;5;241m.\u001b[39mcolumns\u001b[38;5;241m.\u001b[39mnlevels \u001b[38;5;241m>\u001b[39m \u001b[38;5;241m1\u001b[39m:\n\u001b[1;32m   4106\u001b[0m     \u001b[38;5;28;01mreturn\u001b[39;00m \u001b[38;5;28mself\u001b[39m\u001b[38;5;241m.\u001b[39m_getitem_multilevel(key)\n\u001b[0;32m-> 4107\u001b[0m indexer \u001b[38;5;241m=\u001b[39m \u001b[38;5;28;43mself\u001b[39;49m\u001b[38;5;241;43m.\u001b[39;49m\u001b[43mcolumns\u001b[49m\u001b[38;5;241;43m.\u001b[39;49m\u001b[43mget_loc\u001b[49m\u001b[43m(\u001b[49m\u001b[43mkey\u001b[49m\u001b[43m)\u001b[49m\n\u001b[1;32m   4108\u001b[0m \u001b[38;5;28;01mif\u001b[39;00m is_integer(indexer):\n\u001b[1;32m   4109\u001b[0m     indexer \u001b[38;5;241m=\u001b[39m [indexer]\n",
      "File \u001b[0;32m~/.pyenv/versions/3.10.13/lib/python3.10/site-packages/pandas/core/indexes/base.py:3819\u001b[0m, in \u001b[0;36mIndex.get_loc\u001b[0;34m(self, key)\u001b[0m\n\u001b[1;32m   3814\u001b[0m     \u001b[38;5;28;01mif\u001b[39;00m \u001b[38;5;28misinstance\u001b[39m(casted_key, \u001b[38;5;28mslice\u001b[39m) \u001b[38;5;129;01mor\u001b[39;00m (\n\u001b[1;32m   3815\u001b[0m         \u001b[38;5;28misinstance\u001b[39m(casted_key, abc\u001b[38;5;241m.\u001b[39mIterable)\n\u001b[1;32m   3816\u001b[0m         \u001b[38;5;129;01mand\u001b[39;00m \u001b[38;5;28many\u001b[39m(\u001b[38;5;28misinstance\u001b[39m(x, \u001b[38;5;28mslice\u001b[39m) \u001b[38;5;28;01mfor\u001b[39;00m x \u001b[38;5;129;01min\u001b[39;00m casted_key)\n\u001b[1;32m   3817\u001b[0m     ):\n\u001b[1;32m   3818\u001b[0m         \u001b[38;5;28;01mraise\u001b[39;00m InvalidIndexError(key)\n\u001b[0;32m-> 3819\u001b[0m     \u001b[38;5;28;01mraise\u001b[39;00m \u001b[38;5;167;01mKeyError\u001b[39;00m(key) \u001b[38;5;28;01mfrom\u001b[39;00m\u001b[38;5;250m \u001b[39m\u001b[38;5;21;01merr\u001b[39;00m\n\u001b[1;32m   3820\u001b[0m \u001b[38;5;28;01mexcept\u001b[39;00m \u001b[38;5;167;01mTypeError\u001b[39;00m:\n\u001b[1;32m   3821\u001b[0m     \u001b[38;5;66;03m# If we have a listlike key, _check_indexing_error will raise\u001b[39;00m\n\u001b[1;32m   3822\u001b[0m     \u001b[38;5;66;03m#  InvalidIndexError. Otherwise we fall through and re-raise\u001b[39;00m\n\u001b[1;32m   3823\u001b[0m     \u001b[38;5;66;03m#  the TypeError.\u001b[39;00m\n\u001b[1;32m   3824\u001b[0m     \u001b[38;5;28mself\u001b[39m\u001b[38;5;241m.\u001b[39m_check_indexing_error(key)\n",
      "\u001b[0;31mKeyError\u001b[0m: 'P1EARLY'"
     ]
    }
   ],
   "source": [
    "import pandas as pd\n",
    "import numpy as np\n",
    "\n",
    "df = pd.read_csv(\"final.csv\")\n",
    "\n",
    "y = df[\"avg_MIRT\"].values\n",
    "T = df[\"P1EARLY\"].values\n",
    "X = df.drop(columns=[\"CHILDID\", \"avg_MIRT\", \"P1EARLY\"]).values\n",
    "child_ids = df[\"CHILDID\"].values\n",
    "ses = df[\"WKSESL\"].values\n",
    "\n",
    "from sklearn.preprocessing import StandardScaler\n",
    "from bartpy.sklearnmodel import SklearnModel\n",
    "\n",
    "scaler = StandardScaler()\n",
    "X_scaled = scaler.fit_transform(X)\n",
    "\n",
    "model_treated = SklearnModel()\n",
    "model_control = SklearnModel()\n",
    "\n",
    "model_treated.fit(X_scaled[T == 1], y[T == 1])\n",
    "model_control.fit(X_scaled[T == 0], y[T == 0])\n",
    "\n",
    "mu1 = model_treated.predict(X_scaled)\n",
    "mu0 = model_control.predict(X_scaled)\n",
    "ite = mu1 - mu0\n",
    "ate = np.mean(ite)\n",
    "print(f\"总 ATE：{ate:.4f}\")\n",
    "\n",
    "df[\"ITE\"] = ite\n",
    "df[\"SES\"] = ses\n",
    "\n",
    "df[\"SES_group\"] = pd.qcut(df[\"SES\"], q=3, labels=[\"Low\", \"Medium\", \"High\"])\n",
    "\n",
    "grouped = df.groupby(\"SES_group\")[\"ITE\"].mean()\n",
    "print(\"\\n按 SES 分组的 CATE：\")\n",
    "print(grouped)\n",
    "\n",
    "ite_df = df[[\"CHILDID\", \"avg_MIRT\", \"P1EARLY\", \"ITE\"]]\n",
    "ite_df.to_csv(\"ite_results.csv\", index=False)\n",
    "print(\"\\nITE 结果已保存为 ite_results.csv\")"
   ]
  },
  {
   "cell_type": "code",
   "execution_count": 9,
   "id": "f43940d9",
   "metadata": {},
   "outputs": [
    {
     "name": "stdout",
     "output_type": "stream",
     "text": [
      "T=0 样本数： 6155\n",
      "T=1 样本数： 5\n"
     ]
    }
   ],
   "source": [
    "print(\"T=0 样本数：\", np.sum(T == 0))\n",
    "print(\"T=1 样本数：\", np.sum(T == 1))"
   ]
  },
  {
   "cell_type": "code",
   "execution_count": null,
   "id": "bb151a29",
   "metadata": {},
   "outputs": [
    {
     "name": "stdout",
     "output_type": "stream",
     "text": [
      "T=0 样本数：6155\n",
      "T=1 样本数：5\n"
     ]
    },
    {
     "ename": "ValueError",
     "evalue": "处理组样本过少（<10），无法进行可靠估计",
     "output_type": "error",
     "traceback": [
      "\u001b[0;31m---------------------------------------------------------------------------\u001b[0m",
      "\u001b[0;31mValueError\u001b[0m                                Traceback (most recent call last)",
      "Cell \u001b[0;32mIn[18], line 24\u001b[0m\n\u001b[1;32m     22\u001b[0m \u001b[38;5;66;03m# 检查样本量是否足够\u001b[39;00m\n\u001b[1;32m     23\u001b[0m \u001b[38;5;28;01mif\u001b[39;00m \u001b[38;5;28msum\u001b[39m(T\u001b[38;5;241m==\u001b[39m\u001b[38;5;241m1\u001b[39m) \u001b[38;5;241m<\u001b[39m \u001b[38;5;241m10\u001b[39m:\n\u001b[0;32m---> 24\u001b[0m     \u001b[38;5;28;01mraise\u001b[39;00m \u001b[38;5;167;01mValueError\u001b[39;00m(\u001b[38;5;124m\"\u001b[39m\u001b[38;5;124m处理组样本过少（<10），无法进行可靠估计\u001b[39m\u001b[38;5;124m\"\u001b[39m)\n\u001b[1;32m     26\u001b[0m \u001b[38;5;66;03m# 拟合 Causal Forest 模型（修正参数名）\u001b[39;00m\n\u001b[1;32m     27\u001b[0m model \u001b[38;5;241m=\u001b[39m CausalForest(\n\u001b[1;32m     28\u001b[0m     n_estimators\u001b[38;5;241m=\u001b[39m\u001b[38;5;241m1000\u001b[39m,  \u001b[38;5;66;03m# 增加树的数量\u001b[39;00m\n\u001b[1;32m     29\u001b[0m     min_samples_leaf\u001b[38;5;241m=\u001b[39m\u001b[38;5;241m10\u001b[39m,  \u001b[38;5;66;03m# 防止过拟合\u001b[39;00m\n\u001b[1;32m     30\u001b[0m     random_state\u001b[38;5;241m=\u001b[39m\u001b[38;5;241m42\u001b[39m,     \u001b[38;5;66;03m# 确保可复现性\u001b[39;00m\n\u001b[1;32m     31\u001b[0m     imbalance_penalty\u001b[38;5;241m=\u001b[39m\u001b[38;5;241m0.5\u001b[39m  \u001b[38;5;66;03m# 处理样本不平衡\u001b[39;00m\n\u001b[1;32m     32\u001b[0m )\n",
      "\u001b[0;31mValueError\u001b[0m: 处理组样本过少（<10），无法进行可靠估计"
     ]
    }
   ],
   "source": [
    "import pandas as pd\n",
    "import numpy as np\n",
    "from sklearn.preprocessing import StandardScaler\n",
    "from econml.grf import CausalForest\n",
    "import matplotlib.pyplot as plt\n",
    "\n",
    "df = pd.read_csv(\"final.csv\")\n",
    "y = df[\"avg_MIRT\"].values\n",
    "T = df[\"P1EARLY\"].values\n",
    "X = df.drop(columns=[\"CHILDID\", \"avg_MIRT\", \"P1EARLY\"])\n",
    "child_ids = df[\"CHILDID\"].values\n",
    "\n",
    "scaler = StandardScaler()\n",
    "X_scaled = scaler.fit_transform(X)\n",
    "\n",
    "print(f\"T=0 样本数：{sum(T==0)}\")\n",
    "print(f\"T=1 样本数：{sum(T==1)}\")\n",
    "\n",
    "if sum(T==1) < 10:\n",
    "    raise ValueError(\"处理组样本过少（<10），无法进行可靠估计\")\n",
    "\n",
    "model = CausalForest(\n",
    "    n_estimators=1000,\n",
    "    min_samples_leaf=10,\n",
    "    random_state=42,  \n",
    "    imbalance_penalty=0.5 \n",
    ")\n",
    "model.fit(X=X_scaled, y=y, T=T)\n",
    "\n",
    "ate = model.ate()\n",
    "print(f\"\\nCausal Forest 估计的 ATE：{ate:.4f}\")\n",
    "\n",
    "ite = model.predict(X_scaled) \n",
    "\n",
    "df[\"ITE_CF\"] = ite\n",
    "\n",
    "df[\"SES\"] = df[\"WKSESL\"]\n",
    "df[\"SES_group\"] = pd.qcut(df[\"SES\"], q=3, labels=[\"Low\", \"Medium\", \"High\"])\n",
    "cate_grouped = df.groupby(\"SES_group\")[\"ITE_CF\"].mean()\n",
    "print(\"\\n按 SES 分组的 CATE（Causal Forest）：\")\n",
    "print(cate_grouped)\n",
    "\n",
    "print(\"\\n特征重要性：\")\n",
    "importances = model.feature_importances_\n",
    "sorted_idx = importances.argsort()[::-1] \n",
    "\n",
    "for i in sorted_idx:\n",
    "    print(f\"{X.columns[i]}: {importances[i]:.4f}\")\n",
    "\n",
    "plt.figure(figsize=(10, 6))\n",
    "plt.barh(range(len(sorted_idx)), importances[sorted_idx], align='center')\n",
    "plt.yticks(range(len(sorted_idx)), X.columns[sorted_idx])\n",
    "plt.xlabel(\"Feature Importance\")\n",
    "plt.title(\"Causal Forest Feature Importances\")\n",
    "plt.tight_layout()\n",
    "plt.savefig(\"causal_forest_feature_importance.png\")\n",
    "plt.show()"
   ]
  },
  {
   "cell_type": "code",
   "execution_count": null,
   "id": "fc212329",
   "metadata": {},
   "outputs": [
    {
     "name": "stdout",
     "output_type": "stream",
     "text": [
      "总样本数：7362\n",
      "T=0 样本数：6155\n",
      "T=1 样本数：5\n",
      "\n",
      "Causal Forest 估计的 ATE：-0.0005\n",
      "\n",
      "按 SES 分组的 CATE（Causal Forest）：\n",
      "SES_group\n",
      "Low      -0.007258\n",
      "Medium   -0.000107\n",
      "High      0.005797\n",
      "Name: ITE_CF, dtype: float64\n",
      "\n",
      "特征重要性：\n",
      "WKSESL: 0.8056\n",
      "P1AGEENT: 0.1045\n",
      "P1FSTAMP: 0.0761\n",
      "apprchT1: 0.0067\n",
      "P1HSCALE: 0.0066\n",
      "P1EXPECT: 0.0004\n",
      "P1SADLON: 0.0000\n",
      "WKCAREPK: 0.0000\n",
      "P1ATTENI: 0.0000\n",
      "ONEPARENT: 0.0000\n"
     ]
    },
    {
     "name": "stderr",
     "output_type": "stream",
     "text": [
      "The default of observed=False is deprecated and will be changed to True in a future version of pandas. Pass observed=False to retain current behavior or observed=True to adopt the future default and silence this warning.\n"
     ]
    },
    {
     "data": {
      "image/png": "[encoded data removed]",
      "text/plain": [
       "<Figure size 1000x600 with 1 Axes>"
      ]
     },
     "metadata": {},
     "output_type": "display_data"
    },
    {
     "data": {
      "image/png": "[encoded data removed]",
      "text/plain": [
       "<Figure size 1000x600 with 1 Axes>"
      ]
     },
     "metadata": {},
     "output_type": "display_data"
    },
    {
     "name": "stdout",
     "output_type": "stream",
     "text": [
      "\n",
      "处理组样本的ITE详情：\n",
      "       CHILDID    ITE_CF SES_group\n",
      "630   0098017C -0.001759    Medium\n",
      "821   0147006C -0.002414       Low\n",
      "5476  1018018C  0.006244    Medium\n",
      "6247  1212023C -0.002445      High\n",
      "7240  3080023C  0.000899       Low\n"
     ]
    }
   ],
   "source": [
    "import pandas as pd\n",
    "import numpy as np\n",
    "from sklearn.preprocessing import StandardScaler\n",
    "from econml.grf import CausalForest\n",
    "import matplotlib.pyplot as plt\n",
    "\n",
    "df = pd.read_csv(\"final.csv\")\n",
    "y = df[\"avg_MIRT\"].values\n",
    "T = df[\"P1EARLY\"].values\n",
    "X = df.drop(columns=[\"CHILDID\", \"avg_MIRT\", \"P1EARLY\"])\n",
    "child_ids = df[\"CHILDID\"].values\n",
    "\n",
    "scaler = StandardScaler()\n",
    "X_scaled = scaler.fit_transform(X)\n",
    "\n",
    "print(f\"总样本数：{len(T)}\")\n",
    "print(f\"T=0 样本数：{sum(T==0)}\")\n",
    "print(f\"T=1 样本数：{sum(T==1)}\")\n",
    "\n",
    "model = CausalForest(\n",
    "    n_estimators=500,        \n",
    "    min_samples_leaf=50,   \n",
    "    min_samples_split=100,  \n",
    "    max_depth=5,   \n",
    "    min_weight_fraction_leaf=0.1,\n",
    "    random_state=42, \n",
    "    honest=False \n",
    ")\n",
    "\n",
    "model.fit(X=X_scaled, y=y, T=T)\n",
    "\n",
    "ite = model.predict(X_scaled)\n",
    "\n",
    "ate = np.mean(ite)\n",
    "print(f\"\\nCausal Forest 估计的 ATE：{ate:.4f}\")\n",
    "\n",
    "df[\"ITE_CF\"] = ite\n",
    "\n",
    "df[\"SES\"] = df[\"WKSESL\"]\n",
    "df[\"SES_group\"] = pd.qcut(df[\"SES\"], q=3, labels=[\"Low\", \"Medium\", \"High\"])\n",
    "cate_grouped = df.groupby(\"SES_group\")[\"ITE_CF\"].mean()\n",
    "print(\"\\n按 SES 分组的 CATE（Causal Forest）：\")\n",
    "print(cate_grouped)\n",
    "\n",
    "print(\"\\n特征重要性：\")\n",
    "importances = model.feature_importances_\n",
    "sorted_idx = importances.argsort()[::-1]\n",
    "\n",
    "for i in sorted_idx:\n",
    "    print(f\"{X.columns[i]}: {importances[i]:.4f}\")\n",
    "\n",
    "plt.figure(figsize=(10, 6))\n",
    "plt.barh(range(len(sorted_idx)), importances[sorted_idx], align='center')\n",
    "plt.yticks(range(len(sorted_idx)), X.columns[sorted_idx])\n",
    "plt.xlabel(\"Feature Importance\")\n",
    "plt.title(\"Causal Forest Feature Importances (Small Sample)\")\n",
    "plt.tight_layout()\n",
    "plt.savefig(\"causal_forest_feature_importance_small_sample.png\")\n",
    "plt.show()\n",
    "\n",
    "plt.figure(figsize=(10, 6))\n",
    "plt.hist(ite[T==0], bins=30, alpha=0.5, label='T=0')\n",
    "if sum(T==1) > 0:\n",
    "    plt.hist(ite[T==1], bins=min(5, sum(T==1)), alpha=0.5, label='T=1') \n",
    "plt.axvline(x=ate, color='r', linestyle='--', label=f'ATE={ate:.4f}')\n",
    "plt.xlabel(\"Individual Treatment Effect (ITE)\")\n",
    "plt.ylabel(\"Frequency\")\n",
    "plt.title(\"Distribution of ITE by Treatment Group\")\n",
    "plt.legend()\n",
    "plt.tight_layout()\n",
    "plt.savefig(\"ite_distribution_by_treatment.png\")\n",
    "plt.show()\n",
    "\n",
    "df.to_csv(\"causal_forest_results_small_sample.csv\", index=False)\n",
    "\n",
    "print(\"\\n处理组样本的ITE详情：\")\n",
    "treated_samples = df[T == 1]\n",
    "print(treated_samples[[\"CHILDID\", \"ITE_CF\", \"SES_group\"]])"
   ]
  },
  {
   "cell_type": "code",
   "execution_count": null,
   "id": "b30a0e3a",
   "metadata": {},
   "outputs": [],
   "source": []
  },
  {
   "cell_type": "code",
   "execution_count": null,
   "id": "fd500ea3",
   "metadata": {},
   "outputs": [],
   "source": []
  },
  {
   "cell_type": "code",
   "execution_count": null,
   "id": "9895367a",
   "metadata": {},
   "outputs": [],
   "source": []
  },
  {
   "cell_type": "code",
   "execution_count": null,
   "id": "bacd6f45",
   "metadata": {},
   "outputs": [],
   "source": []
  },
  {
   "cell_type": "code",
   "execution_count": null,
   "id": "250cc809",
   "metadata": {},
   "outputs": [
    {
     "name": "stdout",
     "output_type": "stream",
     "text": [
      "PSM ATE: -1.2606\n",
      "95% CI: [-1.6690, -0.8522]\n",
      "P-value: 0.0000\n"
     ]
    }
   ],
   "source": [
    "import pandas as pd\n",
    "import statsmodels.api as sm\n",
    "\n",
    "df = pd.read_csv(\"psm_matched_results.csv\")\n",
    "\n",
    "y = df[\"Y\"]\n",
    "X = df[[\"T\", \"GENDER\", \"WKWHITE\", \"WKSESL\", \"S2KPUPRI\", \n",
    "        \"apprchT1\", \"P1FSTAMP\", \"ONEPARENT\", \"WKCAREPK\", \n",
    "        \"P1HSCALE\", \"P1SADLON\"]]\n",
    "X = sm.add_constant(X)\n",
    "\n",
    "model = sm.OLS(y, X).fit(cov_type='HC3')\n",
    "\n",
    "ate = model.params[\"T\"]\n",
    "conf_int = model.conf_int().loc[\"T\"]\n",
    "p_value = model.pvalues[\"T\"]\n",
    "\n",
    "print(f\"PSM ATE: {ate:.4f}\")\n",
    "print(f\"95% CI: [{conf_int[0]:.4f}, {conf_int[1]:.4f}]\")\n",
    "print(f\"P-value: {p_value:.4f}\")"
   ]
  },
  {
   "cell_type": "code",
   "execution_count": 2,
   "id": "2e76005f",
   "metadata": {},
   "outputs": [
    {
     "name": "stdout",
     "output_type": "stream",
     "text": [
      "['GENDER', 'WKWHITE', 'WKSESL', 'S2KPUPRI', 'apprchT1', 'P1FSTAMP', 'ONEPARENT', 'WKCAREPK', 'P1HSCALE', 'P1SADLON', 'T', 'Y']\n"
     ]
    }
   ],
   "source": [
    "import pandas as pd\n",
    "\n",
    "df = pd.read_csv(\"psm_matched_results.csv\")\n",
    "print(df.columns.tolist())"
   ]
  },
  {
   "cell_type": "code",
   "execution_count": null,
   "id": "16a8f73f",
   "metadata": {},
   "outputs": [
    {
     "name": "stdout",
     "output_type": "stream",
     "text": [
      "BART ATE: -1.5421\n",
      "95% Credible Interval: [-3.6752, 0.1863]\n"
     ]
    }
   ],
   "source": [
    "import pandas as pd\n",
    "import numpy as np\n",
    "\n",
    "df_bart = pd.read_csv(\"bart_ite_individuals.csv\")\n",
    "\n",
    "ite_bart = df_bart[\"ITE\"]\n",
    "ate_bart = ite_bart.mean()\n",
    "lower, upper = np.percentile(ite_bart, [2.5, 97.5])\n",
    "\n",
    "print(f\"BART ATE: {ate_bart:.4f}\")\n",
    "print(f\"95% Credible Interval: [{lower:.4f}, {upper:.4f}]\")"
   ]
  },
  {
   "cell_type": "code",
   "execution_count": null,
   "id": "14416d9f",
   "metadata": {},
   "outputs": [
    {
     "name": "stdout",
     "output_type": "stream",
     "text": [
      "Causal Forest ATE: -2.4340\n",
      "95% Bootstrap CI: [-2.4505, -2.4188]\n"
     ]
    }
   ],
   "source": [
    "import pandas as pd\n",
    "import numpy as np\n",
    "\n",
    "df_cf = pd.read_csv(\"causal_forest_results_small_sample.csv\")\n",
    "ite_cf = df_cf[\"ITE_CF\"].values\n",
    "\n",
    "ate_cf = np.mean(ite_cf)\n",
    "\n",
    "np.random.seed(42)\n",
    "boot_ates = []\n",
    "for _ in range(1000):\n",
    "    sample = np.random.choice(ite_cf, size=len(ite_cf), replace=True)\n",
    "    boot_ates.append(np.mean(sample))\n",
    "\n",
    "ci_lower, ci_upper = np.percentile(boot_ates, [2.5, 97.5])\n",
    "\n",
    "print(f\"Causal Forest ATE: {ate_cf:.4f}\")\n",
    "print(f\"95% Bootstrap CI: [{ci_lower:.4f}, {ci_upper:.4f}]\")"
   ]
  }
 ],
 "metadata": {
  "kernelspec": {
   "display_name": "Python 3",
   "language": "python",
   "name": "python3"
  },
  "language_info": {
   "codemirror_mode": {
    "name": "ipython",
    "version": 3
   },
   "file_extension": ".py",
   "mimetype": "text/x-python",
   "name": "python",
   "nbconvert_exporter": "python",
   "pygments_lexer": "ipython3",
   "version": "3.10.13"
  }
 },
 "nbformat": 4,
 "nbformat_minor": 5
}
